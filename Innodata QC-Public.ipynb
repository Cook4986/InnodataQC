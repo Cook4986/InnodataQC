{
 "cells": [
  {
   "cell_type": "code",
   "execution_count": null,
   "id": "5799d7c4",
   "metadata": {},
   "outputs": [],
   "source": [
    "#Innodata QC - Matt Cook, September 2022\n",
    "##Compares IIIF manifest of target with Innodata metadata (mets) deliverable\n",
    "\n",
    "import json\n",
    "\n",
    "#I/O\n",
    "manifest = open(\"...json\", \"r\")#IIIF manifest\n",
    "mets = open(\"...mets\", \"r\")#innodata (mets) output\n",
    "log = open(\"...txt\", \"w\")#output log\n",
    "\n",
    "#data structures\n",
    "listDRS = []\n",
    "innoDRS = []\n",
    "\n",
    "#parse IIIF json and add DRS IDs to list\n",
    "data = json.load(manifest)\n",
    "for item in range(len(data['sequences'][0]['canvases'])):\n",
    "    url = (str((data['sequences'][0]['canvases'][item]['images'][0]['resource']['@id'])))\n",
    "    drsNum = url.split(\"/\")[5:6]\n",
    "    drsNum = drsNum[0]\n",
    "    drsNum = drsNum.strip(\";][\")\n",
    "    if drsNum not in listDRS:\n",
    "        listDRS.append(drsNum)\n",
    "print(str((len(listDRS))) + \" unique DRS image IDs were located in the target IIIF manifest.\")\n",
    "print(\"\\n\")\n",
    "\n",
    "#parse Innodata mets file and \n",
    "for line in mets.readlines():\n",
    "    if \"<file ID\" in line:\n",
    "        innOut = line.split(\" \")\n",
    "        innOut = innOut[7].strip('ID=\"')\n",
    "        innOut = innOut.split(\"_\")\n",
    "        innOut = innOut[1]\n",
    "        if innOut not in innoDRS:\n",
    "            innoDRS.append(innOut)\n",
    "print(str((len(innoDRS))) + \" DRS IDs were located in the Innodata mets metadata output.\")\n",
    "print(\"\\n\")\n",
    "\n",
    "#compare mets and IIIF DRS ID lists\n",
    "listDRS.sort()\n",
    "innoDRS.sort()\n",
    "if listDRS==innoDRS:\n",
    "    print(\"All images accounted for; the Innodata output matches IIIF manifest.\")\n",
    "else:\n",
    "    print(\"The following images are unnacounted for in Innodata output: \")\n",
    "for item in listDRS:\n",
    "    if item not in innoDRS:\n",
    "        print(item)\n",
    "\n",
    "#end program\n",
    "manifest.close()\n",
    "mets.close()\n",
    "log.close()\n",
    "print(\"\\n\")\n",
    "print(\"Have a nice day\")"
   ]
  },
  {
   "cell_type": "code",
   "execution_count": null,
   "id": "fdddca20",
   "metadata": {},
   "outputs": [],
   "source": []
  }
 ],
 "metadata": {
  "kernelspec": {
   "display_name": "Python 3",
   "language": "python",
   "name": "python3"
  },
  "language_info": {
   "codemirror_mode": {
    "name": "ipython",
    "version": 3
   },
   "file_extension": ".py",
   "mimetype": "text/x-python",
   "name": "python",
   "nbconvert_exporter": "python",
   "pygments_lexer": "ipython3",
   "version": "3.8.8"
  }
 },
 "nbformat": 4,
 "nbformat_minor": 5
}
